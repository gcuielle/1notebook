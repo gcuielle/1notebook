{
  "metadata": {
    "language_info": {
      "name": ""
    },
    "kernelspec": {
      "name": "python",
      "display_name": "Python (Pyodide)",
      "language": "python"
    }
  },
  "nbformat_minor": 4,
  "nbformat": 4,
  "cells": [
    {
      "cell_type": "markdown",
      "source": "# Data Science Tools and Ecosystem",
      "metadata": {}
    },
    {
      "cell_type": "markdown",
      "source": " ## Introduction: In this notebook, Data Science Tools and Ecosystem are summarized.",
      "metadata": {}
    },
    {
      "cell_type": "markdown",
      "source": "### Some of the popular languages that Data Scientists use are:\n1. Python\n2. R\n3. SQL\n4. Java",
      "metadata": {}
    },
    {
      "cell_type": "markdown",
      "source": "### Some of the commonly used libraries used by Data Scientists include:\n1. TensorFlow.\n2. NumPy.\n3. SciPy.\n4. Pandas.\n5. Matplotlib.\n6. Keras.\n7. SciKit-Learn.\n8. PyTorch.",
      "metadata": {}
    },
    {
      "cell_type": "markdown",
      "source": "Data Science Tools |\n-------------------\nJupyter Notebook \nApache Spark\nR\nPython",
      "metadata": {
        "tags": []
      }
    },
    {
      "cell_type": "markdown",
      "source": "### Below are a few examples of evaluating arithmetic expressions in Python",
      "metadata": {}
    },
    {
      "cell_type": "markdown",
      "source": "# This is a simple arithmetic expression to mutiply then add integers\n\n(3*4)+5",
      "metadata": {
        "tags": []
      }
    },
    {
      "cell_type": "markdown",
      "source": "17",
      "metadata": {}
    },
    {
      "cell_type": "markdown",
      "source": "# This will convert 200 minutes to hours by diving by 60\n\n200/60",
      "metadata": {}
    },
    {
      "cell_type": "markdown",
      "source": "3.33hrs",
      "metadata": {}
    },
    {
      "cell_type": "markdown",
      "source": "# *Objectives*\n- List popular languages for Data Science\n- The capabilities of R and its uses in Data Science.\n- Plotting with ggplot.\n- Jupyter Lab is compatible with many files and Data Science languages",
      "metadata": {}
    },
    {
      "cell_type": "markdown",
      "source": "## Author \nGlen ",
      "metadata": {
        "jp-MarkdownHeadingCollapsed": true,
        "tags": []
      }
    },
    {
      "cell_type": "code",
      "source": "",
      "metadata": {},
      "execution_count": null,
      "outputs": []
    }
  ]
}